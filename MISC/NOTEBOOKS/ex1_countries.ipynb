{
 "cells": [
  {
   "cell_type": "markdown",
   "metadata": {},
   "source": [
    "<style>\n",
    "@font-face {\n",
    "    font-family: 'Gotham Narrow Bold';\n",
    "    src: url('GothamNarrow-Bold.ttf') format('truetype');\n",
    "}\n",
    "\n",
    ".banner-text {\n",
    "    font-family: 'Gotham Narrow Bold', sans-serif;\n",
    "    font-size: 32px;\n",
    "    font-weight: bold;\n",
    "    text-decoration: underline;\n",
    "}\n",
    "</style>\n",
    "\n",
    "<div style=\"display: flex; justify-content: space-between; align-items: center; width: 100%;\">\n",
    "    <div class=\"banner-text\">Data Extraction and Excel Export</div>\n",
    "    <div style=\"flex-grow: 1; text-align: right;\">\n",
    "        <img src=\"https://www.techbarcelona.com/wp-content/uploads/bovemontero-768x270-1-4.jpg\" alt=\"Logo\" width=\"200\">\n",
    "    </div>\n",
    "</div>"
   ]
  },
  {
   "cell_type": "markdown",
   "metadata": {},
   "source": [
    "1) Importamos librerías"
   ]
  },
  {
   "cell_type": "code",
   "execution_count": 1,
   "metadata": {},
   "outputs": [],
   "source": [
    "import os; clear = lambda: os.system('cls'); clear();\n",
    "import openpyxl as xl; #print(\"Python Library: \", xl.__name__, xl.__version__)\n",
    "import pyodbc; import pandas as pd; import warnings; import tabulate as tb;\n",
    "warnings.filterwarnings(\"ignore\", category=UserWarning)"
   ]
  },
  {
   "cell_type": "markdown",
   "metadata": {},
   "source": [
    "2) Definimos rutas"
   ]
  },
  {
   "cell_type": "code",
   "execution_count": 2,
   "metadata": {},
   "outputs": [],
   "source": [
    "path_in = r'C:\\Users\\jordi\\Desktop\\ARCHIVO\\1 - DOCS\\PyBcn - OpenPyXL\\SCRIPTS\\_countries.sql'\n",
    "path_out = r'C:\\Users\\jordi\\Desktop\\ARCHIVO\\1 - DOCS\\PyBcn - OpenPyXL\\XLS\\ex1_countries.xlsx'"
   ]
  },
  {
   "cell_type": "markdown",
   "metadata": {},
   "source": [
    "3) Conectamos base de datos"
   ]
  },
  {
   "cell_type": "code",
   "execution_count": 3,
   "metadata": {},
   "outputs": [],
   "source": [
    "conn = pyodbc.connect('DRIVER={ODBC Driver 17 for SQL Server};SERVER=PC;DATABASE=Northwind;Trusted_Connection=yes;')\n",
    "query = open(path_in, 'r').read()\n",
    "df = pd.read_sql(query, conn)"
   ]
  },
  {
   "cell_type": "markdown",
   "metadata": {},
   "source": [
    "4) Comprobamos la dimensionalidad del conjunto de datos"
   ]
  },
  {
   "cell_type": "code",
   "execution_count": 4,
   "metadata": {},
   "outputs": [
    {
     "name": "stdout",
     "output_type": "stream",
     "text": [
      "(830, 14)\n"
     ]
    }
   ],
   "source": [
    "print(df.shape)"
   ]
  },
  {
   "cell_type": "markdown",
   "metadata": {},
   "source": [
    "5) Visualizamos el conjunto de datos"
   ]
  },
  {
   "cell_type": "code",
   "execution_count": 5,
   "metadata": {},
   "outputs": [
    {
     "name": "stdout",
     "output_type": "stream",
     "text": [
      "+----+-----------+--------------+--------------+-------------+---------------+----------------+-----------+-----------+---------------------------+----------------------+----------------+--------------+------------------+---------------+\n",
      "|    |   OrderID | CustomerID   |   EmployeeID | OrderDate   | ShippedDate   | RequiredDate   |   ShipVia |   Freight | ShipName                  | ShipAddress          | ShipCity       | ShipRegion   | ShipPostalCode   | ShipCountry   |\n",
      "|----+-----------+--------------+--------------+-------------+---------------+----------------+-----------+-----------+---------------------------+----------------------+----------------+--------------+------------------+---------------|\n",
      "|  0 |     10248 | VINET        |            5 | 04/07/1996  | 16/07/1996    | 01/08/1996     |         3 |     32.38 | Vins et alcools Chevalier | 59 rue de l'Abbaye   | Reims          |              | 51100            | France        |\n",
      "|  1 |     10249 | TOMSP        |            6 | 05/07/1996  | 10/07/1996    | 16/08/1996     |         1 |     11.61 | Toms Spezialitäten        | Luisenstr. 48        | Münster        |              | 44087            | Germany       |\n",
      "|  2 |     10250 | HANAR        |            4 | 08/07/1996  | 12/07/1996    | 05/08/1996     |         2 |     65.83 | Hanari Carnes             | Rua do Paço, 67      | Rio de Janeiro | RJ           | 05454-876        | Brazil        |\n",
      "|  3 |     10251 | VICTE        |            3 | 08/07/1996  | 15/07/1996    | 05/08/1996     |         1 |     41.34 | Victuailles en stock      | 2, rue du Commerce   | Lyon           |              | 69004            | France        |\n",
      "|  4 |     10252 | SUPRD        |            4 | 09/07/1996  | 11/07/1996    | 06/08/1996     |         2 |     51.3  | Suprêmes délices          | Boulevard Tirou, 255 | Charleroi      |              | B-6000           | Belgium       |\n",
      "+----+-----------+--------------+--------------+-------------+---------------+----------------+-----------+-----------+---------------------------+----------------------+----------------+--------------+------------------+---------------+\n"
     ]
    }
   ],
   "source": [
    "print(tb.tabulate(df.head(), headers='keys', tablefmt='psql'))"
   ]
  },
  {
   "cell_type": "markdown",
   "metadata": {},
   "source": [
    "6) Creamos Excel"
   ]
  },
  {
   "cell_type": "code",
   "execution_count": 6,
   "metadata": {},
   "outputs": [],
   "source": [
    "wb = xl.Workbook()\n",
    "wb.remove(wb.active)"
   ]
  },
  {
   "cell_type": "markdown",
   "metadata": {},
   "source": [
    "7) Editamos Excel"
   ]
  },
  {
   "cell_type": "code",
   "execution_count": 7,
   "metadata": {},
   "outputs": [],
   "source": [
    "for country, group in df.groupby('ShipCountry'):\n",
    "\n",
    "    ws = wb.create_sheet(title=country)\n",
    "\n",
    "    for col_num, column_title in enumerate(group.columns, 1):\n",
    "        ws.cell(row=1, column=col_num, value=column_title)\n",
    "\n",
    "    for row_num, row_data in enumerate(group.itertuples(index=False, name=None), 2):\n",
    "        for col_num, cell_value in enumerate(row_data, 1):\n",
    "            ws.cell(row=row_num, column=col_num, value=cell_value)"
   ]
  },
  {
   "cell_type": "markdown",
   "metadata": {},
   "source": [
    "8) Guardamos Excel"
   ]
  },
  {
   "cell_type": "code",
   "execution_count": 8,
   "metadata": {},
   "outputs": [],
   "source": [
    "wb.save(path_out) #os.remove(path_out)"
   ]
  },
  {
   "cell_type": "markdown",
   "metadata": {},
   "source": [
    "9)Desconectamos base de datos"
   ]
  },
  {
   "cell_type": "code",
   "execution_count": 9,
   "metadata": {},
   "outputs": [],
   "source": [
    "conn.close()"
   ]
  }
 ],
 "metadata": {
  "kernelspec": {
   "display_name": "Python 3",
   "language": "python",
   "name": "python3"
  },
  "language_info": {
   "codemirror_mode": {
    "name": "ipython",
    "version": 3
   },
   "file_extension": ".py",
   "mimetype": "text/x-python",
   "name": "python",
   "nbconvert_exporter": "python",
   "pygments_lexer": "ipython3",
   "version": "3.11.3"
  }
 },
 "nbformat": 4,
 "nbformat_minor": 2
}
